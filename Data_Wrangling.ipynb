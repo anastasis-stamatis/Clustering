{
 "cells": [
  {
   "cell_type": "markdown",
   "metadata": {},
   "source": [
    "# Data Wrapper"
   ]
  },
  {
   "cell_type": "code",
   "execution_count": 1,
   "metadata": {},
   "outputs": [],
   "source": [
    "# Imports\n",
    "import pandas as pd\n",
    "import numpy as np\n",
    "\n",
    "from sklearn import linear_model\n",
    "from sklearn.linear_model import Lasso, Ridge, LassoCV, LinearRegression\n",
    "from sklearn.model_selection import train_test_split\n",
    "from sklearn.utils import resample\n",
    "from sklearn.metrics import r2_score\n",
    "from sklearn.preprocessing import LabelEncoder,StandardScaler\n",
    "from sklearn.decomposition import PCA\n",
    "\n",
    "# EDA\n",
    "import missingno\n",
    "\n",
    "from collections import defaultdict\n",
    "import re\n",
    "import math\n",
    "\n",
    "import matplotlib.pyplot as plt\n",
    "import matplotlib as matplot\n",
    "from matplotlib import cm\n",
    "import seaborn as sns\n",
    "import itertools\n",
    "\n",
    "%matplotlib inline\n",
    "# Matplotlib params\n",
    "plt.rcParams['figure.figsize'] = (16,9)\n",
    "plt.style.use('ggplot')\n",
    "\n",
    "# Pandas display options\n",
    "pd.set_option('display.max_columns',6000)\n",
    "pd.set_option('display.max_rows',6000)\n",
    "\n",
    "import numpy as np\n",
    "import tqdm\n",
    "\n",
    "from collections import defaultdict\n",
    "\n",
    "# show all outputs\n",
    "from IPython.core.interactiveshell import InteractiveShell\n",
    "InteractiveShell.ast_node_interactivity = \"all\""
   ]
  },
  {
   "cell_type": "markdown",
   "metadata": {},
   "source": [
    "# Import"
   ]
  },
  {
   "cell_type": "code",
   "execution_count": 2,
   "metadata": {},
   "outputs": [],
   "source": [
    "df = pd.read_csv('Files/Activities/activities.csv',sep = ';')"
   ]
  },
  {
   "cell_type": "code",
   "execution_count": 5,
   "metadata": {},
   "outputs": [
    {
     "data": {
      "text/html": [
       "<div>\n",
       "<style scoped>\n",
       "    .dataframe tbody tr th:only-of-type {\n",
       "        vertical-align: middle;\n",
       "    }\n",
       "\n",
       "    .dataframe tbody tr th {\n",
       "        vertical-align: top;\n",
       "    }\n",
       "\n",
       "    .dataframe thead th {\n",
       "        text-align: right;\n",
       "    }\n",
       "</style>\n",
       "<table border=\"1\" class=\"dataframe\">\n",
       "  <thead>\n",
       "    <tr style=\"text-align: right;\">\n",
       "      <th></th>\n",
       "      <th>id</th>\n",
       "      <th>activity_category_id</th>\n",
       "      <th>activity_category</th>\n",
       "      <th>meetup_point</th>\n",
       "      <th>meetup_date</th>\n",
       "      <th>street</th>\n",
       "      <th>street_number</th>\n",
       "      <th>city</th>\n",
       "      <th>postal_code</th>\n",
       "      <th>longitude</th>\n",
       "      <th>latitude</th>\n",
       "      <th>approved</th>\n",
       "      <th>created_at</th>\n",
       "      <th>photo_ids</th>\n",
       "    </tr>\n",
       "  </thead>\n",
       "  <tbody>\n",
       "    <tr>\n",
       "      <th>1332</th>\n",
       "      <td>4544</td>\n",
       "      <td>1</td>\n",
       "      <td>Δράση Κυριακής</td>\n",
       "      <td>ΣΤΙΡΦΑΚΑ</td>\n",
       "      <td>2019-04-06 10:00:00 +0300</td>\n",
       "      <td>NaN</td>\n",
       "      <td>NaN</td>\n",
       "      <td>NaN</td>\n",
       "      <td>NaN</td>\n",
       "      <td>22.306856</td>\n",
       "      <td>38.954502</td>\n",
       "      <td>True</td>\n",
       "      <td>2019-04-05 14:14:02 +0300</td>\n",
       "      <td>[]</td>\n",
       "    </tr>\n",
       "    <tr>\n",
       "      <th>614</th>\n",
       "      <td>3808</td>\n",
       "      <td>1</td>\n",
       "      <td>Δράση Κυριακής</td>\n",
       "      <td>ΠΑΙΔΙΚΗ ΧΑΡΑ ΣΤΟ ΠΥΡΟΒΟΛΙΚΟ</td>\n",
       "      <td>2019-04-07 11:00:00 +0300</td>\n",
       "      <td>ΠΑΙΔΙΚΗ ΧΑΡΑ ΣΤΟ ΠΥΡΟΒΟΛΙΚΟ</td>\n",
       "      <td>ΔΗΜΗΤΡΙΟΥ ΚΡΟΚΟΥ</td>\n",
       "      <td>ΠΡΕΒΕΖΑ</td>\n",
       "      <td>48100</td>\n",
       "      <td>20.747378</td>\n",
       "      <td>38.959562</td>\n",
       "      <td>True</td>\n",
       "      <td>2019-03-27 08:13:54 +0200</td>\n",
       "      <td>[]</td>\n",
       "    </tr>\n",
       "    <tr>\n",
       "      <th>1155</th>\n",
       "      <td>4361</td>\n",
       "      <td>2</td>\n",
       "      <td>Δράση Εβδομάδας Εθελοντισμού στα Σχολεία</td>\n",
       "      <td>Δημοτικό Σχολείο Σίφνου</td>\n",
       "      <td>2019-04-04 08:00:00 +0300</td>\n",
       "      <td>NaN</td>\n",
       "      <td>NaN</td>\n",
       "      <td>NaN</td>\n",
       "      <td>NaN</td>\n",
       "      <td>24.714111</td>\n",
       "      <td>36.976000</td>\n",
       "      <td>True</td>\n",
       "      <td>2019-04-03 16:16:51 +0300</td>\n",
       "      <td>[]</td>\n",
       "    </tr>\n",
       "  </tbody>\n",
       "</table>\n",
       "</div>"
      ],
      "text/plain": [
       "        id  activity_category_id                         activity_category  \\\n",
       "1332  4544                     1                            Δράση Κυριακής   \n",
       "614   3808                     1                            Δράση Κυριακής   \n",
       "1155  4361                     2  Δράση Εβδομάδας Εθελοντισμού στα Σχολεία   \n",
       "\n",
       "                     meetup_point                meetup_date  \\\n",
       "1332                    ΣΤΙΡΦΑΚΑ   2019-04-06 10:00:00 +0300   \n",
       "614   ΠΑΙΔΙΚΗ ΧΑΡΑ ΣΤΟ ΠΥΡΟΒΟΛΙΚΟ  2019-04-07 11:00:00 +0300   \n",
       "1155      Δημοτικό Σχολείο Σίφνου  2019-04-04 08:00:00 +0300   \n",
       "\n",
       "                           street     street_number     city postal_code  \\\n",
       "1332                          NaN               NaN      NaN         NaN   \n",
       "614   ΠΑΙΔΙΚΗ ΧΑΡΑ ΣΤΟ ΠΥΡΟΒΟΛΙΚΟ  ΔΗΜΗΤΡΙΟΥ ΚΡΟΚΟΥ  ΠΡΕΒΕΖΑ       48100   \n",
       "1155                          NaN               NaN      NaN         NaN   \n",
       "\n",
       "      longitude   latitude  approved                 created_at photo_ids  \n",
       "1332  22.306856  38.954502      True  2019-04-05 14:14:02 +0300        []  \n",
       "614   20.747378  38.959562      True  2019-03-27 08:13:54 +0200        []  \n",
       "1155  24.714111  36.976000      True  2019-04-03 16:16:51 +0300        []  "
      ]
     },
     "execution_count": 5,
     "metadata": {},
     "output_type": "execute_result"
    }
   ],
   "source": [
    "df.sample(3).drop(['representative','organization_name','description','name','auth_token','edit_url','email'],axis=1)"
   ]
  },
  {
   "cell_type": "markdown",
   "metadata": {},
   "source": [
    "## Convert to GeoDataFrame"
   ]
  },
  {
   "cell_type": "code",
   "execution_count": 7,
   "metadata": {},
   "outputs": [],
   "source": [
    "import geopandas as gpd\n",
    "import shapefile\n",
    "from shapely.geometry import Point\n",
    "from shapely.geometry import shape\n",
    "from pyproj import Proj, transform"
   ]
  },
  {
   "cell_type": "code",
   "execution_count": 8,
   "metadata": {},
   "outputs": [],
   "source": [
    "from geopy.distance import geodesic"
   ]
  },
  {
   "cell_type": "code",
   "execution_count": 9,
   "metadata": {},
   "outputs": [],
   "source": [
    "gdf = gpd.GeoDataFrame(df,geometry=gpd.points_from_xy(df.longitude, df.latitude),crs =\"+init=EPSG:4326\" )"
   ]
  },
  {
   "cell_type": "markdown",
   "metadata": {},
   "source": [
    "## Load shapefiles"
   ]
  },
  {
   "cell_type": "code",
   "execution_count": 10,
   "metadata": {},
   "outputs": [],
   "source": [
    "# Import shape\n",
    "shp_m = shapefile.Reader('Files/Shapefiles/Municipalities/oria_dhmwn_kallikraths.dbf')\n",
    "shp_r = shapefile.Reader('Files/Shapefiles/Regions/periphereies.dbf')\n",
    "shp_d = shapefile.Reader('Files/Shapefiles/Region_districts/ΠΕΡΙΦΕΡΕΙΑΚΕΣ_ΕΝΟΤΗΤΕΣ.dbf')"
   ]
  },
  {
   "cell_type": "markdown",
   "metadata": {},
   "source": [
    "### Create gdf from shapefiles"
   ]
  },
  {
   "cell_type": "code",
   "execution_count": 11,
   "metadata": {},
   "outputs": [],
   "source": [
    "reg = gpd.GeoDataFrame(pd.DataFrame(shp_r.records(),columns = ['Name']), geometry = shp_r.shapes(),crs = \"+init=EPSG:2100\")\n",
    "mun = gpd.GeoDataFrame(pd.DataFrame(shp_m.records(),columns = ['Name','Code']), geometry = shp_m.shapes(), crs = \"+init=EPSG:2100\")\n",
    "rdi = gpd.GeoDataFrame(pd.DataFrame(pd.DataFrame(shp_d.records())[2].values,columns = ['Name']), geometry = shp_d.shapes(), crs = \"+init=EPSG:2100\")"
   ]
  },
  {
   "cell_type": "code",
   "execution_count": 12,
   "metadata": {},
   "outputs": [],
   "source": [
    "reg.crs = {'init' :'epsg:2100'}"
   ]
  },
  {
   "cell_type": "markdown",
   "metadata": {},
   "source": [
    "### Transform shapefiles to global coordinate system"
   ]
  },
  {
   "cell_type": "code",
   "execution_count": 13,
   "metadata": {},
   "outputs": [],
   "source": [
    "reg = reg.to_crs(epsg=4326)\n",
    "mun = mun.to_crs(gdf.crs)\n",
    "rdi = rdi.to_crs(epsg=4326)"
   ]
  },
  {
   "cell_type": "markdown",
   "metadata": {},
   "source": [
    "# Get municipality / region name for each event"
   ]
  },
  {
   "cell_type": "code",
   "execution_count": 14,
   "metadata": {},
   "outputs": [
    {
     "name": "stderr",
     "output_type": "stream",
     "text": [
      "100%|██████████| 13/13 [00:33<00:00,  2.58s/it]\n"
     ]
    }
   ],
   "source": [
    "for i in tqdm.tqdm(reg.index):\n",
    "    poly = reg.loc[i,'geometry']\n",
    "    name =  reg.loc[i,'Name']\n",
    "    gdf.loc[gdf.within(poly),'Region'] = name"
   ]
  },
  {
   "cell_type": "code",
   "execution_count": 15,
   "metadata": {},
   "outputs": [
    {
     "name": "stderr",
     "output_type": "stream",
     "text": [
      "100%|██████████| 326/326 [00:14<00:00, 22.01it/s]\n"
     ]
    }
   ],
   "source": [
    "for i in tqdm.tqdm(mun.index):\n",
    "    poly = mun.loc[i,'geometry']\n",
    "    name =  mun.loc[i,'Name']\n",
    "    gdf.loc[gdf.within(poly),'Municipality'] = name"
   ]
  },
  {
   "cell_type": "code",
   "execution_count": 16,
   "metadata": {},
   "outputs": [
    {
     "name": "stderr",
     "output_type": "stream",
     "text": [
      "100%|██████████| 75/75 [00:14<00:00,  5.10it/s]\n"
     ]
    }
   ],
   "source": [
    "for i in tqdm.tqdm(rdi.index):\n",
    "    poly = rdi.loc[i,'geometry']\n",
    "    name =  rdi.loc[i,'Name']\n",
    "    gdf.loc[gdf.within(poly),'Subregion'] = name"
   ]
  },
  {
   "cell_type": "code",
   "execution_count": 17,
   "metadata": {},
   "outputs": [
    {
     "data": {
      "text/plain": [
       "(76, 25)"
      ]
     },
     "execution_count": 17,
     "metadata": {},
     "output_type": "execute_result"
    },
    {
     "data": {
      "text/plain": [
       "(83, 25)"
      ]
     },
     "execution_count": 17,
     "metadata": {},
     "output_type": "execute_result"
    }
   ],
   "source": [
    "gdf.loc[gdf['Region'].isna(),:].shape\n",
    "gdf.loc[gdf['Subregion'].isna(),:].shape"
   ]
  },
  {
   "cell_type": "code",
   "execution_count": 18,
   "metadata": {},
   "outputs": [],
   "source": [
    "pnt = gdf.loc[gdf['Region'].isna(),:].head(1).loc[3,'geometry']"
   ]
  },
  {
   "cell_type": "code",
   "execution_count": 19,
   "metadata": {},
   "outputs": [],
   "source": [
    "from shapely.ops import nearest_points\n",
    "from shapely.geometry import MultiPoint"
   ]
  },
  {
   "cell_type": "code",
   "execution_count": 20,
   "metadata": {},
   "outputs": [],
   "source": [
    "def get_min_distance(point,regions):\n",
    "    \"\"\"Get minimum distance and reference region.\n",
    "    \n",
    "    point: point to get distance from (shapely.Point)\n",
    "    region: Gdf to get distances from. Should have columns [geometry,Name]\"\"\"\n",
    "    \n",
    "    reg = regions.copy()\n",
    "    \n",
    "    reg['Nearest Point'] = reg['geometry'].apply(lambda x: nearest_points(point,x)[-1])\n",
    "    reg['Distance'] = reg['Nearest Point'].apply(lambda X: geodesic(tuple((point.y,point.x)),tuple((X.y,X.x))))\n",
    "  \n",
    "    return reg"
   ]
  },
  {
   "cell_type": "code",
   "execution_count": 21,
   "metadata": {},
   "outputs": [
    {
     "name": "stderr",
     "output_type": "stream",
     "text": [
      "100%|██████████| 76/76 [00:00<00:00, 77.18it/s]\n",
      "100%|██████████| 83/83 [00:09<00:00,  8.57it/s]\n",
      "100%|██████████| 83/83 [00:03<00:00, 27.02it/s]\n"
     ]
    }
   ],
   "source": [
    "for ind in tqdm.tqdm(gdf.loc[gdf['Region'].isna(),:].index):\n",
    "    pnt = gdf.loc[ind,'geometry']\n",
    "    \n",
    "    # Get Region\n",
    "    reg_dist = get_min_distance(pnt,reg)\n",
    "    gdf.loc[ind,'Region'] = reg_dist.sort_values(by = 'Distance',ascending = True)['Name'].iloc[0]\n",
    "    \n",
    "for ind in tqdm.tqdm(gdf.loc[gdf['Municipality'].isna(),:].index):\n",
    "    # Get Municipality\n",
    "    mun_dist = get_min_distance(pnt,mun)\n",
    "    gdf.loc[ind,'Municipality'] = mun_dist.sort_values(by = 'Distance',ascending = True)['Name'].iloc[0]\n",
    "    \n",
    "for ind in tqdm.tqdm(gdf.loc[gdf['Subregion'].isna(),:].index):\n",
    "    # Get Municipality\n",
    "    rdi_dist = get_min_distance(pnt,rdi)\n",
    "    gdf.loc[ind,'Subregion'] = rdi_dist.sort_values(by = 'Distance',ascending = True)['Name'].iloc[0]"
   ]
  },
  {
   "cell_type": "markdown",
   "metadata": {},
   "source": [
    "# Convert regions - municipalities"
   ]
  },
  {
   "cell_type": "code",
   "execution_count": 22,
   "metadata": {},
   "outputs": [],
   "source": [
    "from shapely.geometry import Polygon\n",
    "\n",
    "def multipolygon_to_polygons(multi):\n",
    "    \"\"\"get polygons out of a multipolygon.\n",
    "    returns a list of polygons\"\"\"    \n",
    "    poly = [Polygon(line) for line in multi.boundary]\n",
    "    \n",
    "    return poly"
   ]
  },
  {
   "cell_type": "code",
   "execution_count": 23,
   "metadata": {},
   "outputs": [],
   "source": [
    "def series_multipolygons_to_gdf(gs,crs):\n",
    "    \"\"\"transforms a geoseries witha multipolygon to a geodataframe of single polygons.\n",
    "    All other columns of the geoseries remain the same.\n",
    "    \n",
    "    gs: GeoSeries\n",
    "    crs: reference crs\"\"\" \n",
    "    \n",
    "    # Get list of polygons\n",
    "    poly = multipolygon_to_polygons(gs['geometry'])\n",
    "\n",
    "    # Create gdf with the same crs\n",
    "    g = gpd.GeoDataFrame({'geometry':poly},crs =crs)\n",
    "    \n",
    "    # Get all other columns\n",
    "    for col in gs.drop('geometry').index:\n",
    "        g[col] = gs[col]\n",
    "        \n",
    "    return g"
   ]
  },
  {
   "cell_type": "markdown",
   "metadata": {},
   "source": [
    "## Regions"
   ]
  },
  {
   "cell_type": "code",
   "execution_count": 24,
   "metadata": {},
   "outputs": [],
   "source": [
    "reg['geometry'] = reg['geometry'].simplify(0.005, preserve_topology=False)"
   ]
  },
  {
   "cell_type": "code",
   "execution_count": 25,
   "metadata": {},
   "outputs": [
    {
     "name": "stderr",
     "output_type": "stream",
     "text": [
      "100%|██████████| 13/13 [00:00<00:00, 290.27it/s]\n"
     ]
    }
   ],
   "source": [
    "reg_poly = gpd.GeoDataFrame(crs = reg.crs)\n",
    "\n",
    "for i in tqdm.tqdm(reg.index):\n",
    "    if reg.loc[i,'geometry'].type == 'MultiPolygon':\n",
    "        temp = series_multipolygons_to_gdf(reg.loc[i],reg_poly.crs)\n",
    "    else:\n",
    "        temp = reg.loc[[i]]\n",
    "    \n",
    "    reg_poly = pd.concat([reg_poly,temp],axis=0,sort=False)"
   ]
  },
  {
   "cell_type": "markdown",
   "metadata": {},
   "source": [
    "### Check minimum areas"
   ]
  },
  {
   "cell_type": "code",
   "execution_count": 26,
   "metadata": {},
   "outputs": [
    {
     "data": {
      "text/plain": [
       "count    13.000000\n",
       "mean      1.058029\n",
       "std       0.566296\n",
       "min       0.238846\n",
       "25%       0.534040\n",
       "50%       1.002254\n",
       "75%       1.523963\n",
       "max       2.047869\n",
       "Name: geometry, dtype: float64"
      ]
     },
     "execution_count": 26,
     "metadata": {},
     "output_type": "execute_result"
    },
    {
     "data": {
      "text/plain": [
       "count    326.000000\n",
       "mean       0.042161\n",
       "std        0.037853\n",
       "min        0.000215\n",
       "25%        0.007782\n",
       "50%        0.037395\n",
       "75%        0.062692\n",
       "max        0.196472\n",
       "Name: geometry, dtype: float64"
      ]
     },
     "execution_count": 26,
     "metadata": {},
     "output_type": "execute_result"
    }
   ],
   "source": [
    "reg['geometry'].apply(lambda x: x.area).describe()\n",
    "mun['geometry'].apply(lambda x: x.area).describe()"
   ]
  },
  {
   "cell_type": "markdown",
   "metadata": {},
   "source": [
    "The smallest municipality (probably Gavdos) has an area of 0.000215."
   ]
  },
  {
   "cell_type": "code",
   "execution_count": 27,
   "metadata": {},
   "outputs": [],
   "source": [
    "# Reset index\n",
    "reg_poly.reset_index(inplace=True,drop=True)\n",
    "# Get area\n",
    "reg_poly['area'] = reg_poly['geometry'].apply(lambda x: x.area)\n",
    "\n",
    "# Set benchmark: mean - 1.5std\n",
    "benchmark = mun['geometry'].apply(lambda x: x.area).min() # area of the smallest municipality\n",
    "reg_poly_small = reg_poly.loc[reg_poly['area'] > benchmark]"
   ]
  },
  {
   "cell_type": "code",
   "execution_count": 28,
   "metadata": {},
   "outputs": [
    {
     "data": {
      "text/plain": [
       "(252, 3)"
      ]
     },
     "execution_count": 28,
     "metadata": {},
     "output_type": "execute_result"
    },
    {
     "data": {
      "text/plain": [
       "(146, 3)"
      ]
     },
     "execution_count": 28,
     "metadata": {},
     "output_type": "execute_result"
    }
   ],
   "source": [
    "reg_poly.shape\n",
    "reg_poly_small.shape"
   ]
  },
  {
   "cell_type": "markdown",
   "metadata": {},
   "source": [
    "We reduced the polygons from 2k to 153."
   ]
  },
  {
   "cell_type": "markdown",
   "metadata": {},
   "source": [
    "## Municipalities"
   ]
  },
  {
   "cell_type": "code",
   "execution_count": 29,
   "metadata": {},
   "outputs": [],
   "source": [
    "mun['geometry'] = mun['geometry'].simplify(0.005, preserve_topology=False)"
   ]
  },
  {
   "cell_type": "code",
   "execution_count": 30,
   "metadata": {},
   "outputs": [
    {
     "name": "stderr",
     "output_type": "stream",
     "text": [
      "100%|██████████| 326/326 [00:00<00:00, 552.68it/s]\n"
     ]
    }
   ],
   "source": [
    "mun_poly = gpd.GeoDataFrame(crs = mun.crs)\n",
    "\n",
    "for i in tqdm.tqdm(mun.index):\n",
    "    if mun.loc[i,'geometry'].type == 'MultiPolygon':\n",
    "        temp = series_multipolygons_to_gdf(mun.loc[i],mun_poly.crs)\n",
    "    else:\n",
    "        temp = mun.loc[[i]]\n",
    "    \n",
    "    mun_poly = pd.concat([mun_poly,temp],axis=0,sort=False)"
   ]
  },
  {
   "cell_type": "code",
   "execution_count": 31,
   "metadata": {},
   "outputs": [],
   "source": [
    "# Reset index\n",
    "mun_poly.reset_index(inplace=True,drop=True)\n",
    "\n",
    "# Get area\n",
    "mun_poly['area'] = mun_poly['geometry'].apply(lambda x: x.area)\n",
    "\n",
    "# Set benchmark: mean - 1.5std\n",
    "benchmark = mun['geometry'].apply(lambda x: x.area).min() # area of the smallest municipality\n",
    "mun_poly = mun_poly.loc[mun_poly['area'] > benchmark]"
   ]
  },
  {
   "cell_type": "markdown",
   "metadata": {},
   "source": [
    "## Subregions"
   ]
  },
  {
   "cell_type": "code",
   "execution_count": 32,
   "metadata": {},
   "outputs": [],
   "source": [
    "rdi['geometry'] = rdi['geometry'].simplify(0.005, preserve_topology=False)"
   ]
  },
  {
   "cell_type": "code",
   "execution_count": 33,
   "metadata": {},
   "outputs": [
    {
     "name": "stderr",
     "output_type": "stream",
     "text": [
      "100%|██████████| 75/75 [00:00<00:00, 449.20it/s]\n"
     ]
    }
   ],
   "source": [
    "rdi_poly = gpd.GeoDataFrame(crs = rdi.crs)\n",
    "\n",
    "for i in tqdm.tqdm(rdi.index):\n",
    "    if rdi.loc[i,'geometry'].type == 'MultiPolygon':\n",
    "        temp = series_multipolygons_to_gdf(rdi.loc[i],rdi_poly.crs)\n",
    "    else:\n",
    "        temp = rdi.loc[[i]]\n",
    "    \n",
    "    rdi_poly = pd.concat([rdi_poly,temp],axis=0,sort=False)"
   ]
  },
  {
   "cell_type": "code",
   "execution_count": 34,
   "metadata": {},
   "outputs": [],
   "source": [
    "# Reset index\n",
    "rdi_poly.reset_index(inplace=True,drop=True)\n",
    "\n",
    "# Get area\n",
    "rdi_poly['area'] = rdi_poly['geometry'].apply(lambda x: x.area)\n",
    "\n",
    "# Set benchmark: mean - 1.5std\n",
    "benchmark = mun['geometry'].apply(lambda x: x.area).min() # area of the smallest municipality\n",
    "rdi_poly = rdi_poly.loc[rdi_poly['area'] > benchmark]"
   ]
  },
  {
   "cell_type": "markdown",
   "metadata": {},
   "source": [
    "# Get final df"
   ]
  },
  {
   "cell_type": "code",
   "execution_count": 35,
   "metadata": {},
   "outputs": [],
   "source": [
    "df = pd.DataFrame(gdf.drop('geometry',axis=1),index = gdf.index)"
   ]
  },
  {
   "cell_type": "markdown",
   "metadata": {},
   "source": [
    "# Delete those that are on the default spot"
   ]
  },
  {
   "cell_type": "code",
   "execution_count": 36,
   "metadata": {},
   "outputs": [],
   "source": [
    "filter_default = (df['longitude'].round(4) == 24.5394 ) & (df['latitude'].round(4) == 38.0995)"
   ]
  },
  {
   "cell_type": "code",
   "execution_count": 37,
   "metadata": {},
   "outputs": [],
   "source": [
    "df.loc[filter_default,['Region','Municipality','Subregion']] = np.nan"
   ]
  },
  {
   "cell_type": "markdown",
   "metadata": {},
   "source": [
    "# Export"
   ]
  },
  {
   "cell_type": "code",
   "execution_count": 38,
   "metadata": {},
   "outputs": [],
   "source": [
    "df.to_pickle('Files/Output/activites_for_map_data.pkl')\n",
    "gdf[['id','geometry']].to_file('Files/Output/activities_for_map_geometry.pkl')"
   ]
  },
  {
   "cell_type": "code",
   "execution_count": 39,
   "metadata": {},
   "outputs": [],
   "source": [
    "reg_poly_small.to_file('Files/Output/regions_polygons.pkl')\n",
    "mun_poly.to_file('Files/Output/municipalities_polygons.pkl')\n",
    "rdi_poly.to_file('Files/Output/subregions_polygons.pkl')"
   ]
  },
  {
   "cell_type": "code",
   "execution_count": null,
   "metadata": {},
   "outputs": [],
   "source": []
  }
 ],
 "metadata": {
  "kernelspec": {
   "display_name": "Python 3",
   "language": "python",
   "name": "python3"
  },
  "language_info": {
   "codemirror_mode": {
    "name": "ipython",
    "version": 3
   },
   "file_extension": ".py",
   "mimetype": "text/x-python",
   "name": "python",
   "nbconvert_exporter": "python",
   "pygments_lexer": "ipython3",
   "version": "3.7.7"
  },
  "toc-autonumbering": true
 },
 "nbformat": 4,
 "nbformat_minor": 4
}
